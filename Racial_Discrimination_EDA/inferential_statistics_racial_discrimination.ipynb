{
 "cells": [
  {
   "cell_type": "markdown",
   "metadata": {},
   "source": [
    "# Examining Racial Discrimination in the US Job Market\n",
    "\n",
    "### Background\n",
    "Racial discrimination continues to be pervasive in cultures throughout the world. Researchers examined the level of racial discrimination in the United States labor market by randomly assigning identical résumés to black-sounding or white-sounding names and observing the impact on requests for interviews from employers.\n",
    "\n",
    "### Data\n",
    "In the dataset provided, each row represents a resume. The 'race' column has two values, 'b' and 'w', indicating black-sounding and white-sounding. The column 'call' has two values, 1 and 0, indicating whether the resume received a call from employers or not.\n",
    "\n",
    "Note that the 'b' and 'w' values in race are assigned randomly to the resumes when presented to the employer."
   ]
  },
  {
   "cell_type": "code",
   "execution_count": 77,
   "metadata": {
    "collapsed": true
   },
   "outputs": [],
   "source": [
    "import pandas as pd\n",
    "import numpy as np\n",
    "from scipy import stats\n",
    "import matplotlib.pyplot as plt\n",
    "import math"
   ]
  },
  {
   "cell_type": "code",
   "execution_count": 78,
   "metadata": {},
   "outputs": [],
   "source": [
    "data = pd.io.stata.read_stata('data/us_job_market_discrimination.dta')"
   ]
  },
  {
   "cell_type": "code",
   "execution_count": 79,
   "metadata": {},
   "outputs": [
    {
     "name": "stdout",
     "output_type": "stream",
     "text": [
      "There were  235.0 call backs for white sounding names and  157.0 call backs for black sounding names.\n"
     ]
    }
   ],
   "source": [
    "# number of callbacks for white-sounding and black-sounding names\n",
    "w_calls = sum(data[data.race=='w'].call)\n",
    "b_calls = sum(data[data.race=='b'].call)\n",
    "print('There were ', w_calls, 'call backs for white sounding names and ', b_calls, 'call backs for black sounding names.')"
   ]
  },
  {
   "cell_type": "code",
   "execution_count": 80,
   "metadata": {
    "scrolled": true
   },
   "outputs": [
    {
     "name": "stdout",
     "output_type": "stream",
     "text": [
      "<class 'pandas.core.frame.DataFrame'>\n",
      "Int64Index: 4870 entries, 0 to 4869\n",
      "Data columns (total 65 columns):\n",
      "id                    4870 non-null object\n",
      "ad                    4870 non-null object\n",
      "education             4870 non-null int8\n",
      "ofjobs                4870 non-null int8\n",
      "yearsexp              4870 non-null int8\n",
      "honors                4870 non-null int8\n",
      "volunteer             4870 non-null int8\n",
      "military              4870 non-null int8\n",
      "empholes              4870 non-null int8\n",
      "occupspecific         4870 non-null int16\n",
      "occupbroad            4870 non-null int8\n",
      "workinschool          4870 non-null int8\n",
      "email                 4870 non-null int8\n",
      "computerskills        4870 non-null int8\n",
      "specialskills         4870 non-null int8\n",
      "firstname             4870 non-null object\n",
      "sex                   4870 non-null object\n",
      "race                  4870 non-null object\n",
      "h                     4870 non-null float32\n",
      "l                     4870 non-null float32\n",
      "call                  4870 non-null float32\n",
      "city                  4870 non-null object\n",
      "kind                  4870 non-null object\n",
      "adid                  4870 non-null float32\n",
      "fracblack             4784 non-null float32\n",
      "fracwhite             4784 non-null float32\n",
      "lmedhhinc             4784 non-null float32\n",
      "fracdropout           4784 non-null float32\n",
      "fraccolp              4784 non-null float32\n",
      "linc                  4784 non-null float32\n",
      "col                   4870 non-null float32\n",
      "expminreq             4870 non-null object\n",
      "schoolreq             4870 non-null object\n",
      "eoe                   4870 non-null float32\n",
      "parent_sales          1672 non-null float32\n",
      "parent_emp            1722 non-null float32\n",
      "branch_sales          608 non-null float32\n",
      "branch_emp            658 non-null float32\n",
      "fed                   3102 non-null float32\n",
      "fracblack_empzip      1918 non-null float32\n",
      "fracwhite_empzip      1918 non-null float32\n",
      "lmedhhinc_empzip      1908 non-null float32\n",
      "fracdropout_empzip    1918 non-null float32\n",
      "fraccolp_empzip       1918 non-null float32\n",
      "linc_empzip           1918 non-null float32\n",
      "manager               4870 non-null float32\n",
      "supervisor            4870 non-null float32\n",
      "secretary             4870 non-null float32\n",
      "offsupport            4870 non-null float32\n",
      "salesrep              4870 non-null float32\n",
      "retailsales           4870 non-null float32\n",
      "req                   4870 non-null float32\n",
      "expreq                4870 non-null float32\n",
      "comreq                4870 non-null float32\n",
      "educreq               4870 non-null float32\n",
      "compreq               4870 non-null float32\n",
      "orgreq                4870 non-null float32\n",
      "manuf                 4870 non-null float32\n",
      "transcom              4870 non-null float32\n",
      "bankreal              4870 non-null float32\n",
      "trade                 4870 non-null float32\n",
      "busservice            4870 non-null float32\n",
      "othservice            4870 non-null float32\n",
      "missind               4870 non-null float32\n",
      "ownership             4870 non-null object\n",
      "dtypes: float32(42), int16(1), int8(12), object(10)\n",
      "memory usage: 1.3+ MB\n"
     ]
    }
   ],
   "source": [
    "data.info()"
   ]
  },
  {
   "cell_type": "markdown",
   "metadata": {
    "collapsed": true
   },
   "source": [
    "## 1. What test is appropriate for this problem? Does CLT apply?\n",
    "\n",
    "#### We are trying to test if race has a significant impact on the callback rate for resumes. With 4870 resumes, the CLT applies and states that the difference between the two proportions is approximately a normal distribution. For this, I will use a z test."
   ]
  },
  {
   "cell_type": "markdown",
   "metadata": {},
   "source": [
    "## 2. What are the null and alternate hypotheses?\n",
    "\n",
    "#### The null hypothesis is that there is no difference in callback rates between races, the alternative is that there is a significant difference in callback rates."
   ]
  },
  {
   "cell_type": "markdown",
   "metadata": {},
   "source": [
    "## 3.Compute margin of error, confidence interval, and p-value. Try using both the bootstrapping and the frequentist statistical approaches."
   ]
  },
  {
   "cell_type": "code",
   "execution_count": 81,
   "metadata": {},
   "outputs": [
    {
     "name": "stdout",
     "output_type": "stream",
     "text": [
      "2435\n",
      "2435\n"
     ]
    },
    {
     "data": {
      "text/html": [
       "<div>\n",
       "<style>\n",
       "    .dataframe thead tr:only-child th {\n",
       "        text-align: right;\n",
       "    }\n",
       "\n",
       "    .dataframe thead th {\n",
       "        text-align: left;\n",
       "    }\n",
       "\n",
       "    .dataframe tbody tr th {\n",
       "        vertical-align: top;\n",
       "    }\n",
       "</style>\n",
       "<table border=\"1\" class=\"dataframe\">\n",
       "  <thead>\n",
       "    <tr style=\"text-align: right;\">\n",
       "      <th>call</th>\n",
       "      <th>0.0</th>\n",
       "      <th>1.0</th>\n",
       "    </tr>\n",
       "    <tr>\n",
       "      <th>race</th>\n",
       "      <th></th>\n",
       "      <th></th>\n",
       "    </tr>\n",
       "  </thead>\n",
       "  <tbody>\n",
       "    <tr>\n",
       "      <th>b</th>\n",
       "      <td>2278</td>\n",
       "      <td>157</td>\n",
       "    </tr>\n",
       "    <tr>\n",
       "      <th>w</th>\n",
       "      <td>2200</td>\n",
       "      <td>235</td>\n",
       "    </tr>\n",
       "  </tbody>\n",
       "</table>\n",
       "</div>"
      ],
      "text/plain": [
       "call   0.0  1.0\n",
       "race           \n",
       "b     2278  157\n",
       "w     2200  235"
      ]
     },
     "execution_count": 81,
     "metadata": {},
     "output_type": "execute_result"
    }
   ],
   "source": [
    "#Check how many actual call backs happened and out of how many resumes\n",
    "w = data[data.race=='w']\n",
    "b = data[data.race=='b']\n",
    "print(len(w))\n",
    "print(len(b))\n",
    "\n",
    "data.groupby(['race','call']).size().unstack()"
   ]
  },
  {
   "cell_type": "code",
   "execution_count": 82,
   "metadata": {},
   "outputs": [
    {
     "name": "stdout",
     "output_type": "stream",
     "text": [
      "The call back rate for black sounding names: 0.400510204082\n",
      "The call back rate for white sounding names: 0.599489795918\n",
      "0.08049281686544418  is the total mean of callbacks\n",
      "0.0644763857126236  is the mean of callbacks for black sounding names\n",
      "0.09650924056768417  is the mean of callbacks for white sounding names\n"
     ]
    }
   ],
   "source": [
    "#Find all the sums\n",
    "cb_b = sum(data.call[(data.race == 'b')])\n",
    "cb_w = sum(data.call[(data.race == 'w')])\n",
    "cb_t = sum(data.call)\n",
    "\n",
    "#Calculate the rates\n",
    "cb_rate_b = cb_b / cb_t\n",
    "cb_rate_w = cb_w / cb_t\n",
    "\n",
    "print('The call back rate for black sounding names:', cb_rate_b)\n",
    "print('The call back rate for white sounding names:', cb_rate_w)\n",
    "\n",
    "# compute mean of all\n",
    "mean_t = np.mean(data.call)\n",
    "mean_b = np.mean(data.call[(data.race == 'b')])\n",
    "mean_w = np.mean(data.call[(data.race == 'w')])\n",
    "print(mean_t,' is the total mean of callbacks')\n",
    "print(mean_b,' is the mean of callbacks for black sounding names')\n",
    "print(mean_w,' is the mean of callbacks for white sounding names')"
   ]
  },
  {
   "cell_type": "code",
   "execution_count": 83,
   "metadata": {},
   "outputs": [
    {
     "data": {
      "image/png": "[encoded data removed]",
      "text/plain": [
       "<matplotlib.figure.Figure at 0x10f5355f8>"
      ]
     },
     "metadata": {},
     "output_type": "display_data"
    }
   ],
   "source": [
    "# Create arrays for black and white applicants\n",
    "black = data.call[(data.race == 'b')]\n",
    "white = data.call[(data.race == 'w')]\n",
    "\n",
    "# Compute the difference of mean\n",
    "empirical_diff_means = mean_b - mean_w\n",
    "\n",
    "# Create shifted arrays\n",
    "b_shifted = black - mean_b + mean_t\n",
    "w_shifted = white - mean_w + mean_t\n",
    "\n",
    "def draw_bs_reps(data, func, size=1):\n",
    "    \"\"\"Draw bootstrap replicates.\"\"\"\n",
    "\n",
    "    # Initialize array of replicates: bs_replicates\n",
    "    bs_replicates = np.empty(size)\n",
    "\n",
    "    # Generate replicates\n",
    "    for i in range(size):\n",
    "        bs_replicates[i] = func(np.random.choice(data, size=len(data)))\n",
    "\n",
    "    return bs_replicates\n",
    "\n",
    "# Compute 10,000 bootstrap replicates from shifted array\n",
    "bs_replicates_b = draw_bs_reps(b_shifted, np.mean, 10000)\n",
    "bs_replicates_w = draw_bs_reps(w_shifted, np.mean, 10000)\n",
    "\n",
    "# Make a histogram of the results\n",
    "_ = plt.hist(bs_replicates, bins=40, normed=True)\n",
    "_ = plt.xlabel('Difference in mean')\n",
    "_ = plt.ylabel('PDF')\n",
    "plt.show()"
   ]
  },
  {
   "cell_type": "code",
   "execution_count": 84,
   "metadata": {},
   "outputs": [
    {
     "name": "stdout",
     "output_type": "stream",
     "text": [
      "The p-value for the test of equality of callback rates is:  0.0003\n"
     ]
    }
   ],
   "source": [
    "# Get replicates of difference of means: bs_replicates\n",
    "bs_replicates = bs_replicates_b - bs_replicates_w\n",
    "\n",
    "# Compute and print p-value: p\n",
    "p = np.sum(bs_replicates <= empirical_diff_means) / len(bs_replicates)\n",
    "print('The p-value for the test of equality of callback rates is: ', p)"
   ]
  },
  {
   "cell_type": "code",
   "execution_count": 85,
   "metadata": {},
   "outputs": [
    {
     "name": "stdout",
     "output_type": "stream",
     "text": [
      "confidence interval for the difference of black & white callback rate:\n",
      "[0.17145510208788942, 0.22650408158558008]\n"
     ]
    }
   ],
   "source": [
    "# calculate margins of error for the two distributions\n",
    "seb = math.sqrt((cb_rate_b*(1-cb_rate_b))/len(b)) \n",
    "sew = math.sqrt((cb_rate_w*(1-cb_rate_w))/len(w)) \n",
    "se_diff = math.sqrt(math.pow(seb,2) + math.pow(sew,2))\n",
    "\n",
    "# calculate confidence interval for difference in the distributions\n",
    "conf_int_lower = abs(cb_rate_b-cb_rate_w)-1.96*se_diff\n",
    "conf_int_upper = abs(cb_rate_b-cb_rate_w)+1.96*se_diff\n",
    "conf_int = [conf_int_lower,conf_int_upper]\n",
    "\n",
    "print('confidence interval for the difference of black & white callback rate:')\n",
    "print(conf_int)"
   ]
  },
  {
   "cell_type": "markdown",
   "metadata": {},
   "source": [
    "## 4. Write a story describing the statistical significance in the context or the original problem. Does your analysis mean that race/name is the most important factor in callback success? Why or why not? If not, how would you amend your analysis?\n",
    "\n",
    "#### Using bootstrap replicates, we are able to say that if the true mean call back was the same for white and black call backs we would only get this sample result 3 times in 10,000 randomized samples. Our p-value was 0.0003, which is less than alpha of 0.05. This means we can reject the null hypothesis and conclude that there was a significant difference in call backs by race. 95% of the time the difference of the call back rates were between 0.1715 and 0.2265. \n",
    "\n",
    "#### While there is no way to conclude causation, there is evidence that race is strongly correlated to call back rate. There is also no way to say that it is the most important factor, but it does seem to be a factor. Every situation is different and with the data given we can only conclude so much. If I wanted to be even more sure of this difference in rates, I would include an analysis of years of experience, education level and more. "
   ]
  },
  {
   "cell_type": "code",
   "execution_count": null,
   "metadata": {
    "collapsed": true
   },
   "outputs": [],
   "source": []
  }
 ],
 "metadata": {
  "kernelspec": {
   "display_name": "Python 3",
   "language": "python",
   "name": "python3"
  },
  "language_info": {
   "codemirror_mode": {
    "name": "ipython",
    "version": 3
   },
   "file_extension": ".py",
   "mimetype": "text/x-python",
   "name": "python",
   "nbconvert_exporter": "python",
   "pygments_lexer": "ipython3",
   "version": "3.6.3"
  }
 },
 "nbformat": 4,
 "nbformat_minor": 1
}
