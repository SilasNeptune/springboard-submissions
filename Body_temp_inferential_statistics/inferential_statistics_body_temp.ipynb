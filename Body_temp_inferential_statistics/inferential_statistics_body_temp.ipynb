{
 "cells": [
  {
   "cell_type": "markdown",
   "metadata": {},
   "source": [
    "# What is the True Normal Human Body Temperature? \n",
    "\n",
    "#### Background\n",
    "\n",
    "The mean normal body temperature was held to be 37$^{\\circ}$C or 98.6$^{\\circ}$F for more than 120 years since it was first conceptualized and reported by Carl Wunderlich in a famous 1868 book. But, is this value statistically correct?"
   ]
  },
  {
   "cell_type": "code",
   "execution_count": 2,
   "metadata": {},
   "outputs": [
    {
     "name": "stderr",
     "output_type": "stream",
     "text": [
      "/Users/silasneptune/anaconda3/lib/python3.6/site-packages/statsmodels/compat/pandas.py:56: FutureWarning: The pandas.core.datetools module is deprecated and will be removed in a future version. Please use the pandas.tseries module instead.\n",
      "  from pandas.core import datetools\n"
     ]
    }
   ],
   "source": [
    "import pandas as pd\n",
    "import numpy as np\n",
    "import seaborn as sns\n",
    "import scipy.stats as stats\n",
    "from scipy.stats import norm\n",
    "import matplotlib.pyplot as plt\n",
    "import statsmodels.api as sm\n",
    "from scipy.stats import ttest_ind\n",
    "%matplotlib inline\n",
    "\n",
    "df = pd.read_csv('data/human_body_temperature.csv')"
   ]
  },
  {
   "cell_type": "markdown",
   "metadata": {},
   "source": [
    "### A Quick glance at the data we are working with:"
   ]
  },
  {
   "cell_type": "code",
   "execution_count": 3,
   "metadata": {},
   "outputs": [
    {
     "name": "stdout",
     "output_type": "stream",
     "text": [
      "   temperature gender  heart_rate\n",
      "0         99.3      F        68.0\n",
      "1         98.4      F        81.0\n",
      "2         97.8      M        73.0\n",
      "3         99.2      F        66.0\n",
      "4         98.0      F        73.0\n"
     ]
    },
    {
     "data": {
      "text/html": [
       "<div>\n",
       "<style>\n",
       "    .dataframe thead tr:only-child th {\n",
       "        text-align: right;\n",
       "    }\n",
       "\n",
       "    .dataframe thead th {\n",
       "        text-align: left;\n",
       "    }\n",
       "\n",
       "    .dataframe tbody tr th {\n",
       "        vertical-align: top;\n",
       "    }\n",
       "</style>\n",
       "<table border=\"1\" class=\"dataframe\">\n",
       "  <thead>\n",
       "    <tr style=\"text-align: right;\">\n",
       "      <th></th>\n",
       "      <th>temperature</th>\n",
       "      <th>heart_rate</th>\n",
       "    </tr>\n",
       "  </thead>\n",
       "  <tbody>\n",
       "    <tr>\n",
       "      <th>count</th>\n",
       "      <td>130.000000</td>\n",
       "      <td>130.000000</td>\n",
       "    </tr>\n",
       "    <tr>\n",
       "      <th>mean</th>\n",
       "      <td>98.249231</td>\n",
       "      <td>73.761538</td>\n",
       "    </tr>\n",
       "    <tr>\n",
       "      <th>std</th>\n",
       "      <td>0.733183</td>\n",
       "      <td>7.062077</td>\n",
       "    </tr>\n",
       "    <tr>\n",
       "      <th>min</th>\n",
       "      <td>96.300000</td>\n",
       "      <td>57.000000</td>\n",
       "    </tr>\n",
       "    <tr>\n",
       "      <th>25%</th>\n",
       "      <td>97.800000</td>\n",
       "      <td>69.000000</td>\n",
       "    </tr>\n",
       "    <tr>\n",
       "      <th>50%</th>\n",
       "      <td>98.300000</td>\n",
       "      <td>74.000000</td>\n",
       "    </tr>\n",
       "    <tr>\n",
       "      <th>75%</th>\n",
       "      <td>98.700000</td>\n",
       "      <td>79.000000</td>\n",
       "    </tr>\n",
       "    <tr>\n",
       "      <th>max</th>\n",
       "      <td>100.800000</td>\n",
       "      <td>89.000000</td>\n",
       "    </tr>\n",
       "  </tbody>\n",
       "</table>\n",
       "</div>"
      ],
      "text/plain": [
       "       temperature  heart_rate\n",
       "count   130.000000  130.000000\n",
       "mean     98.249231   73.761538\n",
       "std       0.733183    7.062077\n",
       "min      96.300000   57.000000\n",
       "25%      97.800000   69.000000\n",
       "50%      98.300000   74.000000\n",
       "75%      98.700000   79.000000\n",
       "max     100.800000   89.000000"
      ]
     },
     "metadata": {},
     "output_type": "display_data"
    },
    {
     "data": {
      "text/plain": [
       "gender\n",
       "F    65\n",
       "M    65\n",
       "dtype: int64"
      ]
     },
     "execution_count": 3,
     "metadata": {},
     "output_type": "execute_result"
    }
   ],
   "source": [
    "print(df.head(5))\n",
    "display(df.describe())\n",
    "df.groupby('gender').size()"
   ]
  },
  {
   "cell_type": "markdown",
   "metadata": {},
   "source": [
    "## 1. Is the distribution of body temperatures normal?\n",
    "\n",
    "#### Using graphical method, the distribution looks to be normal. When given a test of normality, the data returned a z=score of about 2.7 and a p-score of about 0.26, which means this test does not reject the null hypothesis. We should be able to conclude the body temperature is normally distributed\n"
   ]
  },
  {
   "cell_type": "code",
   "execution_count": 4,
   "metadata": {},
   "outputs": [
    {
     "data": {
      "image/png": "[encoded data removed]",
      "text/plain": [
       "<matplotlib.figure.Figure at 0x10e4a9cf8>"
      ]
     },
     "metadata": {},
     "output_type": "display_data"
    }
   ],
   "source": [
    "# Create a histogram of body temp and a normal distribution\n",
    "plt.hist(df.temperature, width=0.4, normed=True, label='Temp observed')\n",
    "plt.xlabel('Body Temp (F)')\n",
    "plt.title('Histogram of Body Temperatures')\n",
    "\n",
    "xs = np.linspace(96, 101, 100)\n",
    "temp_mean = df.temperature.mean()\n",
    "temp_std = df.temperature.std()\n",
    "pdf = stats.norm.pdf(xs, temp_mean, temp_std)\n",
    "\n",
    "plt.plot(xs, pdf, label='Normal Dist')\n",
    "plt.legend(loc='best', frameon=False)\n",
    "plt.show()"
   ]
  },
  {
   "cell_type": "code",
   "execution_count": 5,
   "metadata": {},
   "outputs": [
    {
     "data": {
      "image/png": "[encoded data removed]",
      "text/plain": [
       "<matplotlib.figure.Figure at 0x10e4a92e8>"
      ]
     },
     "metadata": {},
     "output_type": "display_data"
    }
   ],
   "source": [
    "#Define a CDF function to calculate the CDF of an array\n",
    "def cdf(data):\n",
    "    x = np.sort(data)\n",
    "    y = np.arange(1.0, len(data)+1) / len(data)\n",
    "    \n",
    "    return x, y\n",
    "\n",
    "mean = np.mean(df.temperature)\n",
    "std  = np.std(df.temperature)\n",
    "normal = np.random.normal(mean, std, 10000)\n",
    "\n",
    "# CDF of the sample and theoretical distributions\n",
    "x, y = cdf(df.temperature)\n",
    "x_norm, y_norm = cdf(normal)\n",
    "\n",
    "plt.plot(x_norm, y_norm)\n",
    "plt.plot(x, y, marker='.', ls='none')\n",
    "plt.xlabel('Body Temp (F)')\n",
    "plt.ylabel('CDF')\n",
    "plt.show()"
   ]
  },
  {
   "cell_type": "code",
   "execution_count": 6,
   "metadata": {},
   "outputs": [
    {
     "data": {
      "text/plain": [
       "NormaltestResult(statistic=2.7038014333192031, pvalue=0.2587479863488254)"
      ]
     },
     "execution_count": 6,
     "metadata": {},
     "output_type": "execute_result"
    }
   ],
   "source": [
    "# Conduct a test of normality, where null hypothesis is that it is normal\n",
    "stats.mstats.normaltest(df['temperature']) "
   ]
  },
  {
   "cell_type": "markdown",
   "metadata": {},
   "source": [
    "## 2. Is the sample size large? Are the observations independent?\n",
    "\n",
    "#### There are 130 observations in this dataset, which is greater than the usual threshold of 30 observations. The observations should be independent if we assume they are all different people"
   ]
  },
  {
   "cell_type": "code",
   "execution_count": 7,
   "metadata": {},
   "outputs": [
    {
     "data": {
      "text/plain": [
       "temperature    130\n",
       "gender         130\n",
       "heart_rate     130\n",
       "dtype: int64"
      ]
     },
     "execution_count": 7,
     "metadata": {},
     "output_type": "execute_result"
    }
   ],
   "source": [
    "df.count()"
   ]
  },
  {
   "cell_type": "markdown",
   "metadata": {},
   "source": [
    "## 3. Is the true population mean really 98.6 degrees F?\n",
    "\n",
    "#### Based on a boostrap hypothesis test and both a t and z test, I would reject the null hypothesis that the true population mean is 98.6 degrees. The data suggests that it is lower than 98.6 degrees, with a p-value less than 0.01 and no overlap in a 95% CI.\n",
    "#### I would use the one-sample because we are only testing against the population mean , and a t-test because we do not know the population standard deviation. Though, a z-test would also give similar results because of the large sample data."
   ]
  },
  {
   "cell_type": "code",
   "execution_count": 8,
   "metadata": {},
   "outputs": [
    {
     "data": {
      "image/png": "[encoded data removed]",
      "text/plain": [
       "<matplotlib.figure.Figure at 0x10e461898>"
      ]
     },
     "metadata": {},
     "output_type": "display_data"
    },
    {
     "name": "stdout",
     "output_type": "stream",
     "text": [
      "mean observed = 98.24923076923078\n",
      "95% confidence interval = [ 98.12230769  98.37540385] degrees F\n"
     ]
    }
   ],
   "source": [
    "#Bootstrap Hypothesis Test\n",
    "\n",
    "def bootstrap_replicate_1d(data, func):\n",
    "    return func(np.random.choice(data, size=len(data)))\n",
    "\n",
    "def draw_bs_reps(data, func, size=1):\n",
    "    \"\"\"Draw bootstrap replicates.\"\"\"\n",
    "\n",
    "    # Initialize array of replicates: bs_replicates\n",
    "    bs_replicates = np.empty(size)\n",
    "\n",
    "    # Generate replicates\n",
    "    for i in range(size):\n",
    "        bs_replicates[i] = bootstrap_replicate_1d(data, func)\n",
    "\n",
    "    return bs_replicates\n",
    "\n",
    "\n",
    "# Take 10,000 bootstrap replicates of the mean: bs_replicates\n",
    "bs_replicates = draw_bs_reps(df.temperature, np.mean, size=10000)\n",
    "\n",
    "\n",
    "# Compute and print standard deviation of bootstrap replicates\n",
    "bs_std = np.std(bs_replicates)\n",
    "\n",
    "# Make a histogram of the results\n",
    "_ = plt.hist(bs_replicates, bins=50, normed=True)\n",
    "_ = plt.xlabel('mean temperatures (F)')\n",
    "_ = plt.ylabel('PDF')\n",
    "plt.show()\n",
    "\n",
    "print('mean observed =', mean)\n",
    "\n",
    "# Compute the 95% confidence interval: conf_int\n",
    "conf_int = np.percentile(bs_replicates, [2.5, 97.5])\n",
    "print('95% confidence interval =', conf_int, 'degrees F')"
   ]
  },
  {
   "cell_type": "code",
   "execution_count": 9,
   "metadata": {},
   "outputs": [
    {
     "name": "stdout",
     "output_type": "stream",
     "text": [
      "The t-statistic and p-value are Ttest_1sampResult(statistic=-5.4548232923645195, pvalue=2.4106320415561276e-07)\n"
     ]
    }
   ],
   "source": [
    "# Use one-sample test with the null hypothesis that true population mean is 98.6 \n",
    "\n",
    "#t_stat = (mean - 98.6)/se\n",
    "t_stat = stats.ttest_1samp(df.temperature, 98.6)\n",
    "print('The t-statistic and p-value are',  t_stat)"
   ]
  },
  {
   "cell_type": "code",
   "execution_count": 10,
   "metadata": {},
   "outputs": [
    {
     "name": "stdout",
     "output_type": "stream",
     "text": [
      "The z-statistic and p-value are (-5.4548232923645195, 4.9021570141012155e-08)\n"
     ]
    }
   ],
   "source": [
    "z_stat = sm.stats.ztest(df.temperature, value=98.6)\n",
    "p_val = stats.norm.sf(np.abs(z_stat))*2\n",
    "print('The z-statistic and p-value are', z_stat)"
   ]
  },
  {
   "cell_type": "markdown",
   "metadata": {},
   "source": [
    "## 4. Draw a small sample of size 10 from the data and repeat both frequentist tests.\n",
    "\n",
    "#### Both tests give similar results and because of the high p-value, we cannot reject that the smaller sample mean is different from the population mean. This result is the opposite of what we got earlier, simply because the sample size is not large enough. If you ran the same tests on a random sub sample of 30 (the minimum sample size suggested), you actually have a p-value under the standard alpha=0.05, meaning we could reject the null and suggest the findings are significant. At such small sample sizes the differences between the two tests are minimal, but as the size goes up the z-test is the better option and more reliable."
   ]
  },
  {
   "cell_type": "code",
   "execution_count": 11,
   "metadata": {},
   "outputs": [
    {
     "data": {
      "text/html": [
       "<div>\n",
       "<style>\n",
       "    .dataframe thead tr:only-child th {\n",
       "        text-align: right;\n",
       "    }\n",
       "\n",
       "    .dataframe thead th {\n",
       "        text-align: left;\n",
       "    }\n",
       "\n",
       "    .dataframe tbody tr th {\n",
       "        vertical-align: top;\n",
       "    }\n",
       "</style>\n",
       "<table border=\"1\" class=\"dataframe\">\n",
       "  <thead>\n",
       "    <tr style=\"text-align: right;\">\n",
       "      <th></th>\n",
       "      <th>temperature</th>\n",
       "      <th>gender</th>\n",
       "      <th>heart_rate</th>\n",
       "    </tr>\n",
       "  </thead>\n",
       "  <tbody>\n",
       "    <tr>\n",
       "      <th>8</th>\n",
       "      <td>98.4</td>\n",
       "      <td>F</td>\n",
       "      <td>84.0</td>\n",
       "    </tr>\n",
       "    <tr>\n",
       "      <th>0</th>\n",
       "      <td>99.3</td>\n",
       "      <td>F</td>\n",
       "      <td>68.0</td>\n",
       "    </tr>\n",
       "    <tr>\n",
       "      <th>1</th>\n",
       "      <td>98.4</td>\n",
       "      <td>F</td>\n",
       "      <td>81.0</td>\n",
       "    </tr>\n",
       "    <tr>\n",
       "      <th>111</th>\n",
       "      <td>98.0</td>\n",
       "      <td>F</td>\n",
       "      <td>89.0</td>\n",
       "    </tr>\n",
       "    <tr>\n",
       "      <th>5</th>\n",
       "      <td>99.2</td>\n",
       "      <td>M</td>\n",
       "      <td>83.0</td>\n",
       "    </tr>\n",
       "    <tr>\n",
       "      <th>113</th>\n",
       "      <td>99.1</td>\n",
       "      <td>F</td>\n",
       "      <td>74.0</td>\n",
       "    </tr>\n",
       "    <tr>\n",
       "      <th>59</th>\n",
       "      <td>97.6</td>\n",
       "      <td>M</td>\n",
       "      <td>73.0</td>\n",
       "    </tr>\n",
       "    <tr>\n",
       "      <th>101</th>\n",
       "      <td>98.5</td>\n",
       "      <td>M</td>\n",
       "      <td>68.0</td>\n",
       "    </tr>\n",
       "    <tr>\n",
       "      <th>77</th>\n",
       "      <td>98.4</td>\n",
       "      <td>M</td>\n",
       "      <td>70.0</td>\n",
       "    </tr>\n",
       "    <tr>\n",
       "      <th>86</th>\n",
       "      <td>98.6</td>\n",
       "      <td>F</td>\n",
       "      <td>77.0</td>\n",
       "    </tr>\n",
       "  </tbody>\n",
       "</table>\n",
       "</div>"
      ],
      "text/plain": [
       "     temperature gender  heart_rate\n",
       "8           98.4      F        84.0\n",
       "0           99.3      F        68.0\n",
       "1           98.4      F        81.0\n",
       "111         98.0      F        89.0\n",
       "5           99.2      M        83.0\n",
       "113         99.1      F        74.0\n",
       "59          97.6      M        73.0\n",
       "101         98.5      M        68.0\n",
       "77          98.4      M        70.0\n",
       "86          98.6      F        77.0"
      ]
     },
     "execution_count": 11,
     "metadata": {},
     "output_type": "execute_result"
    }
   ],
   "source": [
    "sm_sample = df.sample(10, random_state=30)\n",
    "sm_sample"
   ]
  },
  {
   "cell_type": "code",
   "execution_count": 12,
   "metadata": {},
   "outputs": [
    {
     "name": "stdout",
     "output_type": "stream",
     "text": [
      "The t-test results are: Ttest_1sampResult(statistic=-0.29617443887952943, pvalue=0.77381728918044423)  and the z-test results are: (-0.29617443887952943, 0.76709686841029012)\n"
     ]
    }
   ],
   "source": [
    "#Compute both t-test and z-test for the small sub sample\n",
    "sm_t = stats.ttest_1samp(sm_sample.temperature, 98.6)\n",
    "sm_z = sm.stats.ztest(sm_sample.temperature, value=98.6)\n",
    "print('The t-test results are:', sm_t, ' and the z-test results are:', sm_z)"
   ]
  },
  {
   "cell_type": "code",
   "execution_count": 13,
   "metadata": {},
   "outputs": [
    {
     "name": "stdout",
     "output_type": "stream",
     "text": [
      "     temperature gender  heart_rate\n",
      "8           98.4      F        84.0\n",
      "0           99.3      F        68.0\n",
      "1           98.4      F        81.0\n",
      "111         98.0      F        89.0\n",
      "5           99.2      M        83.0\n",
      "The t-test results for the medium sample are: Ttest_1sampResult(statistic=-2.3083679258627536, pvalue=0.028305591890407242)  and the z-test results are: (-2.3083679258627536, 0.020978681364145612)\n"
     ]
    }
   ],
   "source": [
    "#Create a medium sample with 30 observations\n",
    "med_sample = df.sample(30, random_state=30)\n",
    "print(med_sample.head())\n",
    "\n",
    "#Compute both t-test and z-test for the medium sub sample\n",
    "med_t = stats.ttest_1samp(med_sample.temperature, 98.6)\n",
    "med_z = sm.stats.ztest(med_sample.temperature, value=98.6)\n",
    "print('The t-test results for the medium sample are:', med_t, ' and the z-test results are:', med_z)"
   ]
  },
  {
   "cell_type": "markdown",
   "metadata": {},
   "source": [
    "## 5. At what temperature should we consider someone's temperature to be \"abnormal\"?\n",
    "\n",
    "#### There are many different ways of defining \"abnormal.\" Looking at the confidence intervals for the sample data, I would say anything outside of the 95% CI is abnormal. So anything below 98.12 degrees or above 98.37. Using the 99% CI, you could say anything outside of the 98.08 - 98.41 range would be considered \"abnormal.\" This is based on means of samples, so let's look at a more individual approach.\n",
    "\n",
    "#### We can also think of this as testing for outliers. Generally an outlier is considered more than 3 std away from the mean, or a z-score less than -3 or more than 3. This suggests that anything below 96 or above 100.4 degrees is \"abnormal.\" "
   ]
  },
  {
   "cell_type": "code",
   "execution_count": 14,
   "metadata": {},
   "outputs": [
    {
     "name": "stdout",
     "output_type": "stream",
     "text": [
      "95% confidence interval = [ 98.12230769  98.37540385] degrees F\n",
      "99% confidence interval = [ 98.08153846  98.41461538] degrees F\n"
     ]
    }
   ],
   "source": [
    "# Compute the 95% confidence interval: conf_int\n",
    "conf_int95 = np.percentile(bs_replicates, [2.5, 97.5])\n",
    "print('95% confidence interval =', conf_int95, 'degrees F')\n",
    "\n",
    "# Compute the 99% confidence interval: conf_int\n",
    "conf_int99 = np.percentile(bs_replicates, [0.5, 99.5])\n",
    "print('99% confidence interval =', conf_int99, 'degrees F')"
   ]
  },
  {
   "cell_type": "code",
   "execution_count": 15,
   "metadata": {},
   "outputs": [
    {
     "name": "stdout",
     "output_type": "stream",
     "text": [
      "Any value less than  96.05815743251567  or greater than  100.44030410594588 would be considered an outlier.\n"
     ]
    }
   ],
   "source": [
    "lower = mean - std*3\n",
    "upper = mean + std*3\n",
    "\n",
    "print('Any value less than ', lower, ' or greater than ', upper, 'would be considered an outlier.')"
   ]
  },
  {
   "cell_type": "markdown",
   "metadata": {},
   "source": [
    "## 6. Is there a significant difference between males and females in normal temperature?\n",
    "\n",
    "#### To explore the difference in gender, I use a two-sample t test because we are comparing two samples and the population standard deviation is unknown. The resulting p-value is less than half of 0.05 (alpha, but 1/2 on each side because we are testing if it is lower OR higher), so we can reject the null hypothesis and say that there is a significant difference between males and females in normal temperature."
   ]
  },
  {
   "cell_type": "code",
   "execution_count": 16,
   "metadata": {},
   "outputs": [
    {
     "name": "stdout",
     "output_type": "stream",
     "text": [
      "The t-statistic is -2.28543453817\n",
      "The p value is 0.0239318831224\n"
     ]
    }
   ],
   "source": [
    "#Separate male and female temps\n",
    "m_temps = df[df['gender'] == 'M'].temperature\n",
    "f_temps = df[df['gender'] == 'F'].temperature\n",
    "\n",
    "#Perform t test\n",
    "t_stat, p_val_t = ttest_ind(m_temps, f_temps)\n",
    "\n",
    "print('The t-statistic is',t_stat)\n",
    "print('The p value is',p_val_t)"
   ]
  },
  {
   "cell_type": "code",
   "execution_count": 17,
   "metadata": {},
   "outputs": [
    {
     "name": "stdout",
     "output_type": "stream",
     "text": [
      "The average male temperature in the sample is  98.1046153846154  and the average female temperature is  98.39384615384613\n"
     ]
    }
   ],
   "source": [
    "avg_male = np.mean(m_temps)\n",
    "avg_fem = np.mean(f_temps)\n",
    "\n",
    "print('The average male temperature in the sample is ', avg_male, ' and the average female temperature is ', avg_fem)\n",
    "\n",
    "m_std = np.std(m_temps)\n",
    "f_std = np.std(f_temps)"
   ]
  },
  {
   "cell_type": "code",
   "execution_count": 18,
   "metadata": {},
   "outputs": [
    {
     "data": {
      "image/png": "[encoded data removed]",
      "text/plain": [
       "<matplotlib.figure.Figure at 0x113603400>"
      ]
     },
     "metadata": {},
     "output_type": "display_data"
    }
   ],
   "source": [
    "_ = sns.boxplot(x=\"gender\", y=\"temperature\", data=df)"
   ]
  },
  {
   "cell_type": "markdown",
   "metadata": {},
   "source": [
    "## Conclusion: Based on our sample of 130 people split evenly between the genders, we can conclude that the average body temperature is actually lower than the 98.6 degrees fahrenheit that is usually suggested. The distribution of the sample is relatively normal. There is, however, a significant (based on alpha=0.05) difference between the genders' average body temperature. Men generally have a slightly lower body temperature. "
   ]
  }
 ],
 "metadata": {
  "kernelspec": {
   "display_name": "Python 3",
   "language": "python",
   "name": "python3"
  },
  "language_info": {
   "codemirror_mode": {
    "name": "ipython",
    "version": 3
   },
   "file_extension": ".py",
   "mimetype": "text/x-python",
   "name": "python",
   "nbconvert_exporter": "python",
   "pygments_lexer": "ipython3",
   "version": "3.6.3"
  }
 },
 "nbformat": 4,
 "nbformat_minor": 1
}
